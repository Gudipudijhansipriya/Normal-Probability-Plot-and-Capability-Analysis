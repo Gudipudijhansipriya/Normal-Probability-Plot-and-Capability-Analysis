{
 "cells": [
  {
   "cell_type": "markdown",
   "id": "7563f60a",
   "metadata": {},
   "source": [
    "\n",
    "## Normal Probability Plot and Capability Analysis"
   ]
  },
  {
   "cell_type": "code",
   "execution_count": 1,
   "id": "0ddd7c6e",
   "metadata": {},
   "outputs": [],
   "source": [
    "import pandas as pd\n",
    "import numpy as np\n",
    "import matplotlib.pyplot as plt\n",
    "from scipy import stats \n",
    "import seaborn as sns"
   ]
  },
  {
   "cell_type": "code",
   "execution_count": 2,
   "id": "a923de69",
   "metadata": {},
   "outputs": [
    {
     "data": {
      "text/html": [
       "<div>\n",
       "<style scoped>\n",
       "    .dataframe tbody tr th:only-of-type {\n",
       "        vertical-align: middle;\n",
       "    }\n",
       "\n",
       "    .dataframe tbody tr th {\n",
       "        vertical-align: top;\n",
       "    }\n",
       "\n",
       "    .dataframe thead th {\n",
       "        text-align: right;\n",
       "    }\n",
       "</style>\n",
       "<table border=\"1\" class=\"dataframe\">\n",
       "  <thead>\n",
       "    <tr style=\"text-align: right;\">\n",
       "      <th></th>\n",
       "      <th>heat</th>\n",
       "      <th>hardness</th>\n",
       "    </tr>\n",
       "  </thead>\n",
       "  <tbody>\n",
       "    <tr>\n",
       "      <th>0</th>\n",
       "      <td>1</td>\n",
       "      <td>52</td>\n",
       "    </tr>\n",
       "    <tr>\n",
       "      <th>1</th>\n",
       "      <td>2</td>\n",
       "      <td>51</td>\n",
       "    </tr>\n",
       "    <tr>\n",
       "      <th>2</th>\n",
       "      <td>3</td>\n",
       "      <td>54</td>\n",
       "    </tr>\n",
       "    <tr>\n",
       "      <th>3</th>\n",
       "      <td>4</td>\n",
       "      <td>55</td>\n",
       "    </tr>\n",
       "    <tr>\n",
       "      <th>4</th>\n",
       "      <td>5</td>\n",
       "      <td>50</td>\n",
       "    </tr>\n",
       "    <tr>\n",
       "      <th>5</th>\n",
       "      <td>6</td>\n",
       "      <td>52</td>\n",
       "    </tr>\n",
       "    <tr>\n",
       "      <th>6</th>\n",
       "      <td>7</td>\n",
       "      <td>50</td>\n",
       "    </tr>\n",
       "    <tr>\n",
       "      <th>7</th>\n",
       "      <td>8</td>\n",
       "      <td>51</td>\n",
       "    </tr>\n",
       "    <tr>\n",
       "      <th>8</th>\n",
       "      <td>9</td>\n",
       "      <td>58</td>\n",
       "    </tr>\n",
       "    <tr>\n",
       "      <th>9</th>\n",
       "      <td>10</td>\n",
       "      <td>51</td>\n",
       "    </tr>\n",
       "    <tr>\n",
       "      <th>10</th>\n",
       "      <td>11</td>\n",
       "      <td>54</td>\n",
       "    </tr>\n",
       "    <tr>\n",
       "      <th>11</th>\n",
       "      <td>12</td>\n",
       "      <td>59</td>\n",
       "    </tr>\n",
       "    <tr>\n",
       "      <th>12</th>\n",
       "      <td>13</td>\n",
       "      <td>53</td>\n",
       "    </tr>\n",
       "    <tr>\n",
       "      <th>13</th>\n",
       "      <td>14</td>\n",
       "      <td>54</td>\n",
       "    </tr>\n",
       "    <tr>\n",
       "      <th>14</th>\n",
       "      <td>15</td>\n",
       "      <td>55</td>\n",
       "    </tr>\n",
       "  </tbody>\n",
       "</table>\n",
       "</div>"
      ],
      "text/plain": [
       "    heat  hardness\n",
       "0      1        52\n",
       "1      2        51\n",
       "2      3        54\n",
       "3      4        55\n",
       "4      5        50\n",
       "5      6        52\n",
       "6      7        50\n",
       "7      8        51\n",
       "8      9        58\n",
       "9     10        51\n",
       "10    11        54\n",
       "11    12        59\n",
       "12    13        53\n",
       "13    14        54\n",
       "14    15        55"
      ]
     },
     "execution_count": 2,
     "metadata": {},
     "output_type": "execute_result"
    }
   ],
   "source": [
    "hard=pd.read_csv(\"C:\\\\Users\\\\Lenovo\\\\OneDrive\\\\Desktop\\\\SQC_lab\\\\lab5\\\\hardness .csv\")\n",
    "hard"
   ]
  },
  {
   "cell_type": "code",
   "execution_count": 3,
   "id": "84f701c1",
   "metadata": {},
   "outputs": [
    {
     "data": {
      "text/html": [
       "<div>\n",
       "<style scoped>\n",
       "    .dataframe tbody tr th:only-of-type {\n",
       "        vertical-align: middle;\n",
       "    }\n",
       "\n",
       "    .dataframe tbody tr th {\n",
       "        vertical-align: top;\n",
       "    }\n",
       "\n",
       "    .dataframe thead th {\n",
       "        text-align: right;\n",
       "    }\n",
       "</style>\n",
       "<table border=\"1\" class=\"dataframe\">\n",
       "  <thead>\n",
       "    <tr style=\"text-align: right;\">\n",
       "      <th></th>\n",
       "      <th>hardness</th>\n",
       "    </tr>\n",
       "    <tr>\n",
       "      <th>heat</th>\n",
       "      <th></th>\n",
       "    </tr>\n",
       "  </thead>\n",
       "  <tbody>\n",
       "    <tr>\n",
       "      <th>1</th>\n",
       "      <td>52</td>\n",
       "    </tr>\n",
       "    <tr>\n",
       "      <th>2</th>\n",
       "      <td>51</td>\n",
       "    </tr>\n",
       "    <tr>\n",
       "      <th>3</th>\n",
       "      <td>54</td>\n",
       "    </tr>\n",
       "    <tr>\n",
       "      <th>4</th>\n",
       "      <td>55</td>\n",
       "    </tr>\n",
       "    <tr>\n",
       "      <th>5</th>\n",
       "      <td>50</td>\n",
       "    </tr>\n",
       "    <tr>\n",
       "      <th>6</th>\n",
       "      <td>52</td>\n",
       "    </tr>\n",
       "    <tr>\n",
       "      <th>7</th>\n",
       "      <td>50</td>\n",
       "    </tr>\n",
       "    <tr>\n",
       "      <th>8</th>\n",
       "      <td>51</td>\n",
       "    </tr>\n",
       "    <tr>\n",
       "      <th>9</th>\n",
       "      <td>58</td>\n",
       "    </tr>\n",
       "    <tr>\n",
       "      <th>10</th>\n",
       "      <td>51</td>\n",
       "    </tr>\n",
       "    <tr>\n",
       "      <th>11</th>\n",
       "      <td>54</td>\n",
       "    </tr>\n",
       "    <tr>\n",
       "      <th>12</th>\n",
       "      <td>59</td>\n",
       "    </tr>\n",
       "    <tr>\n",
       "      <th>13</th>\n",
       "      <td>53</td>\n",
       "    </tr>\n",
       "    <tr>\n",
       "      <th>14</th>\n",
       "      <td>54</td>\n",
       "    </tr>\n",
       "    <tr>\n",
       "      <th>15</th>\n",
       "      <td>55</td>\n",
       "    </tr>\n",
       "  </tbody>\n",
       "</table>\n",
       "</div>"
      ],
      "text/plain": [
       "      hardness\n",
       "heat          \n",
       "1           52\n",
       "2           51\n",
       "3           54\n",
       "4           55\n",
       "5           50\n",
       "6           52\n",
       "7           50\n",
       "8           51\n",
       "9           58\n",
       "10          51\n",
       "11          54\n",
       "12          59\n",
       "13          53\n",
       "14          54\n",
       "15          55"
      ]
     },
     "execution_count": 3,
     "metadata": {},
     "output_type": "execute_result"
    }
   ],
   "source": [
    "hard=pd.read_csv(\"C:\\\\Users\\\\Lenovo\\\\OneDrive\\\\Desktop\\\\SQC_lab\\\\lab5\\\\hardness .csv\",index_col=\"heat\",parse_dates=True)\n",
    "hard"
   ]
  },
  {
   "cell_type": "code",
   "execution_count": 4,
   "id": "eba5e709",
   "metadata": {
    "scrolled": false
   },
   "outputs": [
    {
     "data": {
      "image/png": "[encoded data removed]",
      "text/plain": [
       "<Figure size 720x432 with 1 Axes>"
      ]
     },
     "metadata": {
      "needs_background": "light"
     },
     "output_type": "display_data"
    }
   ],
   "source": [
    "# Sorting the data into ascending order\n",
    "from scipy import stats\n",
    "plt.figure(figsize=(10, 6))\n",
    "stats.probplot(hard['hardness'], dist=stats.norm, plot=plt)\n",
    "plt.show()"
   ]
  },
  {
   "cell_type": "code",
   "execution_count": 5,
   "id": "5e3e04a9",
   "metadata": {},
   "outputs": [
    {
     "data": {
      "text/plain": [
       "<AxesSubplot:xlabel='hardness', ylabel='Count'>"
      ]
     },
     "execution_count": 5,
     "metadata": {},
     "output_type": "execute_result"
    },
    {
     "data": {
      "image/png": "[encoded data removed]",
      "text/plain": [
       "<Figure size 432x288 with 1 Axes>"
      ]
     },
     "metadata": {
      "needs_background": "light"
     },
     "output_type": "display_data"
    }
   ],
   "source": [
    "sns.histplot(hard['hardness'])"
   ]
  },
  {
   "cell_type": "code",
   "execution_count": 6,
   "id": "6f41d78d",
   "metadata": {},
   "outputs": [],
   "source": [
    "### define the Cp index (basically provide us the information of potential variability)\n",
    "\n",
    "x=hard['hardness']\n",
    "def Cap_ratio(x,ucl,lcl):\n",
    "    sigma = x.std()\n",
    "    Cp = (ucl-lcl)/(6*sigma)\n",
    "    return Cp"
   ]
  },
  {
   "cell_type": "code",
   "execution_count": 7,
   "id": "eb543b97",
   "metadata": {},
   "outputs": [],
   "source": [
    "### define the Cpk index\n",
    "\n",
    "def Cpa_index(x,ucl,lcl):\n",
    "    sigma=x.std()\n",
    "    m=x.mean()\n",
    "    Cpu = (ucl-m)/(3*sigma)\n",
    "    Cpl = (m-lcl)/(3*sigma)\n",
    "    Cpk = np.min([Cpu,Cpl])\n",
    "    return Cpk"
   ]
  },
  {
   "cell_type": "code",
   "execution_count": 8,
   "id": "de42facf",
   "metadata": {},
   "outputs": [],
   "source": [
    "ucl=x.mean()+3*x.std()\n",
    "lcl=x.mean()-3*x.std()"
   ]
  },
  {
   "cell_type": "code",
   "execution_count": 9,
   "id": "71c639f0",
   "metadata": {},
   "outputs": [
    {
     "data": {
      "text/plain": [
       "61.40124892830915"
      ]
     },
     "execution_count": 9,
     "metadata": {},
     "output_type": "execute_result"
    }
   ],
   "source": [
    "ucl"
   ]
  },
  {
   "cell_type": "code",
   "execution_count": 10,
   "id": "4e349f27",
   "metadata": {},
   "outputs": [
    {
     "data": {
      "text/plain": [
       "45.13208440502418"
      ]
     },
     "execution_count": 10,
     "metadata": {},
     "output_type": "execute_result"
    }
   ],
   "source": [
    "lcl"
   ]
  },
  {
   "cell_type": "code",
   "execution_count": 11,
   "id": "7cbaa051",
   "metadata": {},
   "outputs": [
    {
     "name": "stdout",
     "output_type": "stream",
     "text": [
      "Cp is:  1.0\n"
     ]
    }
   ],
   "source": [
    "### calculate the Cp, Cpk value\n",
    "\n",
    "Cp=Cap_ratio(x,ucl,lcl)\n",
    "print(\"Cp is: \",Cp)"
   ]
  },
  {
   "cell_type": "code",
   "execution_count": 12,
   "id": "d4511d2d",
   "metadata": {},
   "outputs": [
    {
     "name": "stdout",
     "output_type": "stream",
     "text": [
      "Cpk is : 1.0\n"
     ]
    }
   ],
   "source": [
    "Cpk=Cpa_index(x,ucl,lcl)\n",
    "print(\"Cpk is :\",Cpk)"
   ]
  },
  {
   "cell_type": "markdown",
   "id": "714df99d",
   "metadata": {},
   "source": [
    "#### Conclusion "
   ]
  },
  {
   "cell_type": "markdown",
   "id": "efcbd245",
   "metadata": {},
   "source": [
    "* Here, we observe that the value of cp=1. It means that both the specification limits and natural tolerance limit is same and Cpk=1 is bearly capable process"
   ]
  },
  {
   "cell_type": "markdown",
   "id": "ba0e5c2f",
   "metadata": {},
   "source": [
    "#### lab8"
   ]
  },
  {
   "cell_type": "markdown",
   "id": "a6588c1a",
   "metadata": {},
   "source": [
    "* The failure time in hours of 10 LSI memory devices follows: 1210, 1275, 1400, 1695, 1900, 2105, 2230, 2250, 2500, and 2625. Plot the data on normal probability plot and, if appropriate, estimate process capability. Is it safe to estimate the proportion of circuits that fail below 1200hrs?"
   ]
  },
  {
   "cell_type": "code",
   "execution_count": 13,
   "id": "502f09ee",
   "metadata": {},
   "outputs": [
    {
     "data": {
      "text/html": [
       "<div>\n",
       "<style scoped>\n",
       "    .dataframe tbody tr th:only-of-type {\n",
       "        vertical-align: middle;\n",
       "    }\n",
       "\n",
       "    .dataframe tbody tr th {\n",
       "        vertical-align: top;\n",
       "    }\n",
       "\n",
       "    .dataframe thead th {\n",
       "        text-align: right;\n",
       "    }\n",
       "</style>\n",
       "<table border=\"1\" class=\"dataframe\">\n",
       "  <thead>\n",
       "    <tr style=\"text-align: right;\">\n",
       "      <th></th>\n",
       "      <th>LSI</th>\n",
       "    </tr>\n",
       "  </thead>\n",
       "  <tbody>\n",
       "    <tr>\n",
       "      <th>0</th>\n",
       "      <td>1210</td>\n",
       "    </tr>\n",
       "    <tr>\n",
       "      <th>1</th>\n",
       "      <td>1275</td>\n",
       "    </tr>\n",
       "    <tr>\n",
       "      <th>2</th>\n",
       "      <td>1400</td>\n",
       "    </tr>\n",
       "    <tr>\n",
       "      <th>3</th>\n",
       "      <td>1695</td>\n",
       "    </tr>\n",
       "    <tr>\n",
       "      <th>4</th>\n",
       "      <td>1900</td>\n",
       "    </tr>\n",
       "    <tr>\n",
       "      <th>5</th>\n",
       "      <td>2105</td>\n",
       "    </tr>\n",
       "    <tr>\n",
       "      <th>6</th>\n",
       "      <td>2230</td>\n",
       "    </tr>\n",
       "    <tr>\n",
       "      <th>7</th>\n",
       "      <td>2250</td>\n",
       "    </tr>\n",
       "    <tr>\n",
       "      <th>8</th>\n",
       "      <td>2500</td>\n",
       "    </tr>\n",
       "    <tr>\n",
       "      <th>9</th>\n",
       "      <td>2625</td>\n",
       "    </tr>\n",
       "  </tbody>\n",
       "</table>\n",
       "</div>"
      ],
      "text/plain": [
       "    LSI\n",
       "0  1210\n",
       "1  1275\n",
       "2  1400\n",
       "3  1695\n",
       "4  1900\n",
       "5  2105\n",
       "6  2230\n",
       "7  2250\n",
       "8  2500\n",
       "9  2625"
      ]
     },
     "execution_count": 13,
     "metadata": {},
     "output_type": "execute_result"
    }
   ],
   "source": [
    "time=pd.read_csv(\"C:\\\\Users\\\\Lenovo\\\\OneDrive\\\\Desktop\\\\SQC_lab\\\\lab5\\\\lsi.csv\")\n",
    "time"
   ]
  },
  {
   "cell_type": "code",
   "execution_count": 14,
   "id": "7fe5e92b",
   "metadata": {},
   "outputs": [
    {
     "data": {
      "image/png": "[encoded data removed]",
      "text/plain": [
       "<Figure size 720x432 with 1 Axes>"
      ]
     },
     "metadata": {
      "needs_background": "light"
     },
     "output_type": "display_data"
    }
   ],
   "source": [
    "# Sorting the data into ascending order\n",
    "from scipy import stats\n",
    "plt.figure(figsize=(10, 6))\n",
    "stats.probplot(time['LSI'], dist=stats.norm, plot=plt)\n",
    "plt.show()"
   ]
  },
  {
   "cell_type": "code",
   "execution_count": 15,
   "id": "8d5734b4",
   "metadata": {},
   "outputs": [
    {
     "data": {
      "text/plain": [
       "<AxesSubplot:xlabel='LSI', ylabel='Count'>"
      ]
     },
     "execution_count": 15,
     "metadata": {},
     "output_type": "execute_result"
    },
    {
     "data": {
      "image/png": "[encoded data removed]",
      "text/plain": [
       "<Figure size 432x288 with 1 Axes>"
      ]
     },
     "metadata": {
      "needs_background": "light"
     },
     "output_type": "display_data"
    }
   ],
   "source": [
    "sns.histplot(time['LSI'])"
   ]
  },
  {
   "cell_type": "code",
   "execution_count": 16,
   "id": "7f027ba4",
   "metadata": {},
   "outputs": [],
   "source": [
    "x1=time['LSI']\n",
    "ucl=x1.mean()+3*x1.std()\n",
    "lcl=x1.mean()-3*x1.std()"
   ]
  },
  {
   "cell_type": "code",
   "execution_count": 17,
   "id": "09d475b5",
   "metadata": {},
   "outputs": [
    {
     "data": {
      "text/plain": [
       "3440.246199666576"
      ]
     },
     "execution_count": 17,
     "metadata": {},
     "output_type": "execute_result"
    }
   ],
   "source": [
    "ucl"
   ]
  },
  {
   "cell_type": "code",
   "execution_count": 18,
   "id": "c270b013",
   "metadata": {},
   "outputs": [
    {
     "data": {
      "text/plain": [
       "397.7538003334239"
      ]
     },
     "execution_count": 18,
     "metadata": {},
     "output_type": "execute_result"
    }
   ],
   "source": [
    "lcl"
   ]
  },
  {
   "cell_type": "code",
   "execution_count": 19,
   "id": "6b5bb6ec",
   "metadata": {},
   "outputs": [
    {
     "name": "stdout",
     "output_type": "stream",
     "text": [
      "Cp is:  1.0\n"
     ]
    }
   ],
   "source": [
    "Cp=Cap_ratio(x1,ucl,lcl)\n",
    "print(\"Cp is: \",Cp)"
   ]
  },
  {
   "cell_type": "code",
   "execution_count": 20,
   "id": "74a3f0bd",
   "metadata": {},
   "outputs": [
    {
     "name": "stdout",
     "output_type": "stream",
     "text": [
      "Cpk is : 1.0\n"
     ]
    }
   ],
   "source": [
    "Cpk=Cpa_index(x1,ucl,lcl)\n",
    "print(\"Cpk is :\",Cpk)"
   ]
  },
  {
   "cell_type": "markdown",
   "id": "92b715e9",
   "metadata": {},
   "source": [
    "#### conclusion"
   ]
  },
  {
   "cell_type": "markdown",
   "id": "2d99ad35",
   "metadata": {},
   "source": [
    "* Here, we observe that the value of cp=1. It means that both the specification limits and natural tolerance limit is same and Cpk=1 is bearly capable process"
   ]
  },
  {
   "cell_type": "markdown",
   "id": "226641ad",
   "metadata": {},
   "source": [
    "#### lab9"
   ]
  },
  {
   "cell_type": "markdown",
   "id": "1d25f9e4",
   "metadata": {},
   "source": [
    "* The height of the disk used in a computer disk drive assembly is a critical quality characteristic. Table gives the heights (in mm) of 25 disks randomly selected from the manufacturing process. Prepare a normal probability plot of the disk height data and estimate process capability."
   ]
  },
  {
   "cell_type": "code",
   "execution_count": 21,
   "id": "951b3f3f",
   "metadata": {},
   "outputs": [
    {
     "data": {
      "text/html": [
       "<div>\n",
       "<style scoped>\n",
       "    .dataframe tbody tr th:only-of-type {\n",
       "        vertical-align: middle;\n",
       "    }\n",
       "\n",
       "    .dataframe tbody tr th {\n",
       "        vertical-align: top;\n",
       "    }\n",
       "\n",
       "    .dataframe thead th {\n",
       "        text-align: right;\n",
       "    }\n",
       "</style>\n",
       "<table border=\"1\" class=\"dataframe\">\n",
       "  <thead>\n",
       "    <tr style=\"text-align: right;\">\n",
       "      <th></th>\n",
       "      <th>height</th>\n",
       "    </tr>\n",
       "  </thead>\n",
       "  <tbody>\n",
       "    <tr>\n",
       "      <th>0</th>\n",
       "      <td>20.0106</td>\n",
       "    </tr>\n",
       "    <tr>\n",
       "      <th>1</th>\n",
       "      <td>19.9940</td>\n",
       "    </tr>\n",
       "    <tr>\n",
       "      <th>2</th>\n",
       "      <td>20.0075</td>\n",
       "    </tr>\n",
       "    <tr>\n",
       "      <th>3</th>\n",
       "      <td>20.0045</td>\n",
       "    </tr>\n",
       "    <tr>\n",
       "      <th>4</th>\n",
       "      <td>20.0056</td>\n",
       "    </tr>\n",
       "    <tr>\n",
       "      <th>5</th>\n",
       "      <td>20.0090</td>\n",
       "    </tr>\n",
       "    <tr>\n",
       "      <th>6</th>\n",
       "      <td>19.9876</td>\n",
       "    </tr>\n",
       "    <tr>\n",
       "      <th>7</th>\n",
       "      <td>20.0018</td>\n",
       "    </tr>\n",
       "    <tr>\n",
       "      <th>8</th>\n",
       "      <td>19.9891</td>\n",
       "    </tr>\n",
       "    <tr>\n",
       "      <th>9</th>\n",
       "      <td>19.9831</td>\n",
       "    </tr>\n",
       "    <tr>\n",
       "      <th>10</th>\n",
       "      <td>20.0067</td>\n",
       "    </tr>\n",
       "    <tr>\n",
       "      <th>11</th>\n",
       "      <td>20.0042</td>\n",
       "    </tr>\n",
       "    <tr>\n",
       "      <th>12</th>\n",
       "      <td>20.0059</td>\n",
       "    </tr>\n",
       "    <tr>\n",
       "      <th>13</th>\n",
       "      <td>19.9956</td>\n",
       "    </tr>\n",
       "    <tr>\n",
       "      <th>14</th>\n",
       "      <td>20.0040</td>\n",
       "    </tr>\n",
       "    <tr>\n",
       "      <th>15</th>\n",
       "      <td>19.9772</td>\n",
       "    </tr>\n",
       "    <tr>\n",
       "      <th>16</th>\n",
       "      <td>19.9986</td>\n",
       "    </tr>\n",
       "    <tr>\n",
       "      <th>17</th>\n",
       "      <td>19.9975</td>\n",
       "    </tr>\n",
       "    <tr>\n",
       "      <th>18</th>\n",
       "      <td>19.9884</td>\n",
       "    </tr>\n",
       "    <tr>\n",
       "      <th>19</th>\n",
       "      <td>20.0006</td>\n",
       "    </tr>\n",
       "    <tr>\n",
       "      <th>20</th>\n",
       "      <td>20.0001</td>\n",
       "    </tr>\n",
       "    <tr>\n",
       "      <th>21</th>\n",
       "      <td>19.9958</td>\n",
       "    </tr>\n",
       "    <tr>\n",
       "      <th>22</th>\n",
       "      <td>20.0089</td>\n",
       "    </tr>\n",
       "    <tr>\n",
       "      <th>23</th>\n",
       "      <td>20.0154</td>\n",
       "    </tr>\n",
       "    <tr>\n",
       "      <th>24</th>\n",
       "      <td>20.0047</td>\n",
       "    </tr>\n",
       "  </tbody>\n",
       "</table>\n",
       "</div>"
      ],
      "text/plain": [
       "     height\n",
       "0   20.0106\n",
       "1   19.9940\n",
       "2   20.0075\n",
       "3   20.0045\n",
       "4   20.0056\n",
       "5   20.0090\n",
       "6   19.9876\n",
       "7   20.0018\n",
       "8   19.9891\n",
       "9   19.9831\n",
       "10  20.0067\n",
       "11  20.0042\n",
       "12  20.0059\n",
       "13  19.9956\n",
       "14  20.0040\n",
       "15  19.9772\n",
       "16  19.9986\n",
       "17  19.9975\n",
       "18  19.9884\n",
       "19  20.0006\n",
       "20  20.0001\n",
       "21  19.9958\n",
       "22  20.0089\n",
       "23  20.0154\n",
       "24  20.0047"
      ]
     },
     "execution_count": 21,
     "metadata": {},
     "output_type": "execute_result"
    }
   ],
   "source": [
    "disk=pd.read_csv(\"C:\\\\Users\\\\Lenovo\\\\OneDrive\\\\Desktop\\\\SQC_lab\\\\lab5\\\\height.csv\")\n",
    "disk"
   ]
  },
  {
   "cell_type": "code",
   "execution_count": 22,
   "id": "fbe8874d",
   "metadata": {},
   "outputs": [
    {
     "data": {
      "image/png": "[encoded data removed]",
      "text/plain": [
       "<Figure size 720x432 with 1 Axes>"
      ]
     },
     "metadata": {
      "needs_background": "light"
     },
     "output_type": "display_data"
    }
   ],
   "source": [
    "# Sorting the data into ascending order\n",
    "from scipy import stats\n",
    "plt.figure(figsize=(10, 6))\n",
    "stats.probplot(disk['height'], dist=stats.norm, plot=plt)\n",
    "plt.show()"
   ]
  },
  {
   "cell_type": "code",
   "execution_count": 23,
   "id": "bcf73e64",
   "metadata": {},
   "outputs": [
    {
     "data": {
      "text/plain": [
       "<AxesSubplot:xlabel='height', ylabel='Count'>"
      ]
     },
     "execution_count": 23,
     "metadata": {},
     "output_type": "execute_result"
    },
    {
     "data": {
      "image/png": "[encoded data removed]",
      "text/plain": [
       "<Figure size 432x288 with 1 Axes>"
      ]
     },
     "metadata": {
      "needs_background": "light"
     },
     "output_type": "display_data"
    }
   ],
   "source": [
    "sns.histplot(disk['height'])"
   ]
  },
  {
   "cell_type": "code",
   "execution_count": 24,
   "id": "88ae201e",
   "metadata": {},
   "outputs": [],
   "source": [
    "x2=disk['height']\n",
    "ucl=x2.mean()+3*x2.std()\n",
    "lcl=x2.mean()-3*x2.std()"
   ]
  },
  {
   "cell_type": "code",
   "execution_count": 25,
   "id": "f81bbc7e",
   "metadata": {},
   "outputs": [
    {
     "data": {
      "text/plain": [
       "20.02758167582585"
      ]
     },
     "execution_count": 25,
     "metadata": {},
     "output_type": "execute_result"
    }
   ],
   "source": [
    "ucl"
   ]
  },
  {
   "cell_type": "code",
   "execution_count": 26,
   "id": "7c4a8a41",
   "metadata": {},
   "outputs": [
    {
     "data": {
      "text/plain": [
       "19.972130324174152"
      ]
     },
     "execution_count": 26,
     "metadata": {},
     "output_type": "execute_result"
    }
   ],
   "source": [
    "lcl"
   ]
  },
  {
   "cell_type": "code",
   "execution_count": 27,
   "id": "6523937c",
   "metadata": {},
   "outputs": [
    {
     "name": "stdout",
     "output_type": "stream",
     "text": [
      "Cp is:  1.000000000000026\n"
     ]
    }
   ],
   "source": [
    "Cp=Cap_ratio(x2,ucl,lcl)\n",
    "print(\"Cp is: \",Cp)"
   ]
  },
  {
   "cell_type": "code",
   "execution_count": 28,
   "id": "48d722e3",
   "metadata": {},
   "outputs": [
    {
     "name": "stdout",
     "output_type": "stream",
     "text": [
      "Cpk is : 1.000000000000026\n"
     ]
    }
   ],
   "source": [
    "Cpk=Cpa_index(x2,ucl,lcl)\n",
    "print(\"Cpk is :\",Cpk)"
   ]
  },
  {
   "cell_type": "markdown",
   "id": "3c9bb14b",
   "metadata": {},
   "source": [
    "#### conclusion"
   ]
  },
  {
   "cell_type": "markdown",
   "id": "172799ad",
   "metadata": {},
   "source": [
    "* Here, we observe that the value of cp=1. It means that both the specification limits and natural tolerance limit is same and Cpk=1 is bearly capable process"
   ]
  },
  {
   "cell_type": "code",
   "execution_count": null,
   "id": "9c5eaf43",
   "metadata": {},
   "outputs": [],
   "source": []
  }
 ],
 "metadata": {
  "kernelspec": {
   "display_name": "Python 3 (ipykernel)",
   "language": "python",
   "name": "python3"
  },
  "language_info": {
   "codemirror_mode": {
    "name": "ipython",
    "version": 3
   },
   "file_extension": ".py",
   "mimetype": "text/x-python",
   "name": "python",
   "nbconvert_exporter": "python",
   "pygments_lexer": "ipython3",
   "version": "3.8.16"
  }
 },
 "nbformat": 4,
 "nbformat_minor": 5
}
